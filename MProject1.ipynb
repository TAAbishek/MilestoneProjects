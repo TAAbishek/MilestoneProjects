{
 "cells": [
  {
   "cell_type": "code",
   "execution_count": 1,
   "metadata": {},
   "outputs": [],
   "source": [
    "#display board\n",
    "\n",
    "def display_board(gl):\n",
    "    print(f\"  {gl[0]}   |  {gl[1]}  |  {gl[2]}  \")\n",
    "    print(\"      |     |\")\n",
    "    print(\"-----------------\")\n",
    "    print(f\"  {gl[3]}   |  {gl[4]}  |  {gl[5]}  \")\n",
    "    print(\"      |     |\")\n",
    "    print(\"-----------------\")\n",
    "    print(f\"  {gl[6]}   |  {gl[7]}  |  {gl[8]}  \")\n",
    "    print(\"      |     |\")\n"
   ]
  },
  {
   "cell_type": "code",
   "execution_count": 2,
   "metadata": {},
   "outputs": [],
   "source": [
    "#accept position in list\n",
    "\n",
    "def position_input():\n",
    "    valid_pos=12\n",
    "    while valid_pos not in ['0','1','2','3','4','5','6','7','8']:\n",
    "        valid_pos=input(\"enter next position \")\n",
    "        if valid_pos not in ['0','1','2','3','4','5','6','7','8']:\n",
    "            print(\"invalid position \")\n",
    "    valid_pos=int(valid_pos)\n",
    "    return valid_pos"
   ]
  },
  {
   "cell_type": "code",
   "execution_count": 3,
   "metadata": {},
   "outputs": [],
   "source": [
    "#To alternate btw X & O and player 1 and player 2\n",
    "\n",
    "def alternate(c_p,c_s):\n",
    "    if c_s=='x':\n",
    "        c_s='o'\n",
    "    elif c_s=='o':\n",
    "        c_s='x'\n",
    "    if c_p=='1':\n",
    "        c_p='2'\n",
    "    elif c_p=='2':\n",
    "        c_p='1'\n",
    "    return c_p,c_s"
   ]
  },
  {
   "cell_type": "code",
   "execution_count": 4,
   "metadata": {},
   "outputs": [],
   "source": [
    "#to update list\n",
    "\n",
    "def update_list(pos,gl,current_symbol):\n",
    "    if gl[pos]==' ':\n",
    "        gl[pos]=current_symbol\n",
    "    else:\n",
    "        pos=int(input(\"cannot re-enter on same position , try another position\"))\n",
    "        gl[pos]=current_symbol\n",
    "    return gl"
   ]
  },
  {
   "cell_type": "code",
   "execution_count": 5,
   "metadata": {},
   "outputs": [
    {
     "name": "stdout",
     "output_type": "stream",
     "text": [
      "tie\n"
     ]
    }
   ],
   "source": [
    "# To check list\n",
    "\n",
    "def check_list(gl):\n",
    "    if (gl[0]==gl[1]==gl[2]!=' ') or (gl[3]==gl[4]==gl[5]!=' ') or (gl[6]==gl[7]==gl[8]!=' '):\n",
    "        return True\n",
    "    \n",
    "    elif (gl[0]==gl[3]==gl[6]!=' ') or (gl[1]==gl[4]==gl[7]!=' ') or (gl[2]==gl[5]==gl[8]!=' '):\n",
    "        return True\n",
    "      \n",
    "    elif (gl[0]==gl[4]==gl[8]!=' ') or (gl[2]==gl[4]==gl[6]!=' '):\n",
    "        return True\n",
    "   \n",
    "    elif ' ' not in gl[:]:\n",
    "        return 'tie'\n",
    "      \n",
    "    else:\n",
    "        return False\n",
    "gl=['1', 'x', '2', '3', '4', '5', '6', '7', '8']\n",
    "cont=check_list(gl)\n",
    "print(cont)"
   ]
  },
  {
   "cell_type": "code",
   "execution_count": 6,
   "metadata": {},
   "outputs": [],
   "source": [
    "#countinue game option\n",
    "\n",
    "def game_on():\n",
    "    countinue=False\n",
    "    while countinue not in ['Y','y','n','N']:\n",
    "        countinue=input(\"Do you want to countinue (y/n) \")\n",
    "        if countinue in ['Y','y']:\n",
    "            return True \n",
    "        elif countinue in ['N','n']:\n",
    "            return False"
   ]
  },
  {
   "cell_type": "code",
   "execution_count": 7,
   "metadata": {},
   "outputs": [],
   "source": [
    "#welcome and initialize\n",
    "\n",
    "def welcome():\n",
    "    print(\"welcome to tic tac toe!!\")\n",
    "    c_s=input(\"player 1 do u want X or O ?\")\n",
    "    print(\"player 1 will go first!\")\n",
    "    current_player='1'\n",
    "    gl=[' ',' ',' ',' ',' ',' ',' ',' ',' ']\n",
    "    display_board(gl)\n",
    "    return current_player,gl,c_s\n"
   ]
  },
  {
   "cell_type": "code",
   "execution_count": 9,
   "metadata": {},
   "outputs": [],
   "source": [
    "#the game loop\n",
    "\n",
    "def game_loop(current_player,gl,c_s):\n",
    "    current_symbol=c_s\n",
    "    countinue=True\n",
    "    while countinue:\n",
    "        pos=position_input()\n",
    "        gl=update_list(pos,gl,current_symbol)\n",
    "        display_board(gl)\n",
    "        win=check_list(gl)\n",
    "        \n",
    "        if win==True or win=='tie':\n",
    "            if win==True:\n",
    "                print(f\"You Win Player {current_player}\")\n",
    "            else:\n",
    "                print(\"Game tied\")\n",
    "            countinue=game_on()\n",
    "            if countinue:\n",
    "                current_player,gl,c_s=welcome()\n",
    "                    \n",
    "        elif countinue==False:\n",
    "            print(\"End of game\")\n",
    "            break\n",
    "            \n",
    "        else:\n",
    "            current_player,current_symbol=alternate(current_player,current_symbol)\n",
    "            \n",
    "    "
   ]
  },
  {
   "cell_type": "code",
   "execution_count": 12,
   "metadata": {},
   "outputs": [
    {
     "name": "stdout",
     "output_type": "stream",
     "text": [
      "welcome to tic tac toe!!\n",
      "player 1 will go first!\n",
      "      |     |     \n",
      "      |     |\n",
      "-----------------\n",
      "      |     |     \n",
      "      |     |\n",
      "-----------------\n",
      "      |     |     \n",
      "      |     |\n",
      "      |  x  |     \n",
      "      |     |\n",
      "-----------------\n",
      "      |     |     \n",
      "      |     |\n",
      "-----------------\n",
      "      |     |     \n",
      "      |     |\n",
      "  o   |  x  |     \n",
      "      |     |\n",
      "-----------------\n",
      "      |     |     \n",
      "      |     |\n",
      "-----------------\n",
      "      |     |     \n",
      "      |     |\n",
      "  o   |  x  |     \n",
      "      |     |\n",
      "-----------------\n",
      "      |  x  |     \n",
      "      |     |\n",
      "-----------------\n",
      "      |     |     \n",
      "      |     |\n",
      "  o   |  x  |     \n",
      "      |     |\n",
      "-----------------\n",
      "  o   |  x  |     \n",
      "      |     |\n",
      "-----------------\n",
      "      |     |     \n",
      "      |     |\n",
      "  o   |  x  |     \n",
      "      |     |\n",
      "-----------------\n",
      "  o   |  x  |     \n",
      "      |     |\n",
      "-----------------\n",
      "      |  x  |     \n",
      "      |     |\n",
      "You Win Player 1\n"
     ]
    }
   ],
   "source": [
    "#starting game\n",
    "\n",
    "current_player,gl,c_s=welcome()                          \n",
    "game_loop(current_player,gl,c_s)"
   ]
  }
 ],
 "metadata": {
  "kernelspec": {
   "display_name": "Python 3.9.12 ('base')",
   "language": "python",
   "name": "python3"
  },
  "language_info": {
   "codemirror_mode": {
    "name": "ipython",
    "version": 3
   },
   "file_extension": ".py",
   "mimetype": "text/x-python",
   "name": "python",
   "nbconvert_exporter": "python",
   "pygments_lexer": "ipython3",
   "version": "3.9.12"
  },
  "orig_nbformat": 4,
  "vscode": {
   "interpreter": {
    "hash": "22fa6baba284eddcded309307be4e7405883f782ca99d05522148f3de462c841"
   }
  }
 },
 "nbformat": 4,
 "nbformat_minor": 2
}
